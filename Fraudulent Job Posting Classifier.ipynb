{
 "cells": [
  {
   "cell_type": "code",
   "execution_count": 1,
   "id": "b2cd8785",
   "metadata": {},
   "outputs": [],
   "source": [
    "import numpy as np\n",
    "import pandas as pd\n",
    "import matplotlib.pyplot as plt\n",
    "import seaborn as sns"
   ]
  },
  {
   "cell_type": "code",
   "execution_count": 2,
   "id": "9f60f675",
   "metadata": {},
   "outputs": [],
   "source": [
    "job_postings = pd.read_csv('fake_job_postings.csv')"
   ]
  },
  {
   "cell_type": "code",
   "execution_count": 3,
   "id": "c460b10e",
   "metadata": {},
   "outputs": [
    {
     "data": {
      "text/plain": [
       "Index(['job_id', 'title', 'location', 'department', 'salary_range',\n",
       "       'company_profile', 'description', 'requirements', 'benefits',\n",
       "       'telecommuting', 'has_company_logo', 'has_questions', 'employment_type',\n",
       "       'required_experience', 'required_education', 'industry', 'function',\n",
       "       'fraudulent'],\n",
       "      dtype='object')"
      ]
     },
     "execution_count": 3,
     "metadata": {},
     "output_type": "execute_result"
    }
   ],
   "source": [
    "job_postings.columns"
   ]
  },
  {
   "cell_type": "code",
   "execution_count": 4,
   "id": "144b8379",
   "metadata": {},
   "outputs": [
    {
     "data": {
      "text/plain": [
       "<AxesSubplot:>"
      ]
     },
     "execution_count": 4,
     "metadata": {},
     "output_type": "execute_result"
    },
    {
     "data": {
      "image/png": "[encoded data removed]",
      "text/plain": [
       "<Figure size 432x288 with 1 Axes>"
      ]
     },
     "metadata": {
      "needs_background": "light"
     },
     "output_type": "display_data"
    }
   ],
   "source": [
    "sns.heatmap(job_postings.isnull(),yticklabels=False,cbar=False,cmap='viridis')"
   ]
  },
  {
   "cell_type": "code",
   "execution_count": 5,
   "id": "2363f8e2",
   "metadata": {},
   "outputs": [],
   "source": [
    "pre_split = pd.DataFrame(job_postings[['description','has_company_logo','has_questions','fraudulent']])"
   ]
  },
  {
   "cell_type": "code",
   "execution_count": 6,
   "id": "9440374a",
   "metadata": {},
   "outputs": [],
   "source": [
    "pre_split.dropna(inplace=True)"
   ]
  },
  {
   "cell_type": "code",
   "execution_count": 7,
   "id": "09393a4a",
   "metadata": {},
   "outputs": [],
   "source": [
    "import string\n",
    "from nltk.corpus import stopwords\n",
    "def text_process(mess):\n",
    "    nopunc = [char for char in mess if char not in string.punctuation]\n",
    "    nopunc = ''.join(nopunc)\n",
    "    return [word for word in nopunc.split() if word.lower() not in stopwords.words('english')]"
   ]
  },
  {
   "cell_type": "code",
   "execution_count": 8,
   "id": "95abe2d3",
   "metadata": {},
   "outputs": [],
   "source": [
    "from sklearn.model_selection import train_test_split\n",
    "feature_train, feature_test, fraud_train, fraud_test = train_test_split(pre_split.drop('fraudulent',axis=1), pre_split['fraudulent'], test_size=0.2)"
   ]
  },
  {
   "cell_type": "code",
   "execution_count": 9,
   "id": "770ad675",
   "metadata": {},
   "outputs": [],
   "source": [
    "feature_train.reset_index(inplace=True,drop=True)\n",
    "feature_test.reset_index(inplace=True,drop=True)\n",
    "fraud_train.reset_index(inplace=True,drop=True)\n",
    "fraud_train.reset_index(inplace=True,drop=True)"
   ]
  },
  {
   "cell_type": "code",
   "execution_count": 10,
   "id": "bffca40a",
   "metadata": {},
   "outputs": [
    {
     "data": {
      "text/plain": [
       "0       [Customer, Service, Technical, Specialist, bas...\n",
       "1       [Miller, amp, Associates, looking, Business, A...\n",
       "2       [fast, paced, fun, exciting, place, work, summ...\n",
       "3       [Farmigo, hiring, Regional, Organizing, Direct...\n",
       "4       [seeking, individuals, connected, companies, h...\n",
       "                              ...                        \n",
       "3571    [Internet, Writer, shall, properly, complete, ...\n",
       "3572    [Normal, 0, Titan, Business, Properties, TBP, ...\n",
       "3573    [Leading, fashion, luxury, amp, lifestyle, com...\n",
       "3574    [Receptionist, based, Burbank, CA, right, cand...\n",
       "3575    [PROSPER, DANCE, FORCE, seeking, fill, front, ...\n",
       "Name: description, Length: 3576, dtype: object"
      ]
     },
     "execution_count": 10,
     "metadata": {},
     "output_type": "execute_result"
    }
   ],
   "source": [
    "feature_train['description'].apply(text_process)\n",
    "feature_test['description'].apply(text_process)"
   ]
  },
  {
   "cell_type": "code",
   "execution_count": 11,
   "id": "a42ba39c",
   "metadata": {},
   "outputs": [],
   "source": [
    "from sklearn.feature_extraction.text import TfidfVectorizer\n",
    "vectorizer = TfidfVectorizer()\n",
    "train_tfidf_features = vectorizer.fit_transform(feature_train['description']).toarray()\n",
    "test_tfidf_features = vectorizer.transform(feature_test['description']).toarray()"
   ]
  },
  {
   "cell_type": "code",
   "execution_count": 12,
   "id": "6b8243dd",
   "metadata": {},
   "outputs": [],
   "source": [
    "train_tfidf = pd.DataFrame(train_tfidf_features)\n",
    "test_tfidf = pd.DataFrame(test_tfidf_features)\n",
    "train_features = pd.merge(train_tfidf,feature_train.drop('description',axis=1),left_index=True, right_index=True)\n",
    "test_features = pd.merge(test_tfidf,feature_test.drop('description',axis=1),left_index=True, right_index=True)"
   ]
  },
  {
   "cell_type": "code",
   "execution_count": 13,
   "id": "f4dae05c",
   "metadata": {},
   "outputs": [
    {
     "data": {
      "text/plain": [
       "RandomForestClassifier()"
      ]
     },
     "execution_count": 13,
     "metadata": {},
     "output_type": "execute_result"
    }
   ],
   "source": [
    "from sklearn.ensemble import RandomForestClassifier\n",
    "model = RandomForestClassifier(n_estimators=100)\n",
    "model.fit(train_features,fraud_train)"
   ]
  },
  {
   "cell_type": "code",
   "execution_count": 14,
   "id": "828b46db",
   "metadata": {},
   "outputs": [
    {
     "name": "stdout",
     "output_type": "stream",
     "text": [
      "              precision    recall  f1-score   support\n",
      "\n",
      "           0       0.98      1.00      0.99      3400\n",
      "           1       1.00      0.53      0.70       176\n",
      "\n",
      "    accuracy                           0.98      3576\n",
      "   macro avg       0.99      0.77      0.84      3576\n",
      "weighted avg       0.98      0.98      0.97      3576\n",
      "\n",
      "\n",
      "\n",
      "[[3400    0]\n",
      " [  82   94]]\n"
     ]
    }
   ],
   "source": [
    "from sklearn.metrics import classification_report,confusion_matrix\n",
    "predictions = model.predict(test_features)\n",
    "print(classification_report(fraud_test,predictions))\n",
    "print(\"\\n\")\n",
    "print(confusion_matrix(fraud_test,predictions))"
   ]
  },
  {
   "cell_type": "code",
   "execution_count": 160,
   "id": "d9d151ae",
   "metadata": {},
   "outputs": [],
   "source": [
    "from sklearn.pipeline import Pipeline\n",
    "from sklearn.feature_extraction.text import CountVectorizer\n",
    "from sklearn.feature_extraction.text import TfidfTransformer\n",
    "from sklearn.naive_bayes import MultinomialNB\n",
    "\n",
    "pipeline = Pipeline([\n",
    "    ('bag', CountVectorizer(analyzer=text_process)),\n",
    "    ('tfidf', TfidfTransformer()),\n",
    "    ('classifier', MultinomialNB()),\n",
    "])"
   ]
  },
  {
   "cell_type": "code",
   "execution_count": 161,
   "id": "472e1c10",
   "metadata": {},
   "outputs": [
    {
     "data": {
      "text/plain": [
       "Pipeline(steps=[('bag',\n",
       "                 CountVectorizer(analyzer=<function text_process at 0x000002670BC01D30>)),\n",
       "                ('tfidf', TfidfTransformer()),\n",
       "                ('classifier', MultinomialNB())])"
      ]
     },
     "execution_count": 161,
     "metadata": {},
     "output_type": "execute_result"
    }
   ],
   "source": [
    "pipeline.fit(describe_train,fraud_train)"
   ]
  },
  {
   "cell_type": "code",
   "execution_count": 162,
   "id": "8dd5e328",
   "metadata": {},
   "outputs": [],
   "source": [
    "predictions = pipeline.predict(describe_test)"
   ]
  },
  {
   "cell_type": "code",
   "execution_count": 165,
   "id": "b0a582d5",
   "metadata": {},
   "outputs": [
    {
     "name": "stdout",
     "output_type": "stream",
     "text": [
      "              precision    recall  f1-score   support\n",
      "\n",
      "           0       0.96      1.00      0.98      3418\n",
      "           1       1.00      0.03      0.05       158\n",
      "\n",
      "    accuracy                           0.96      3576\n",
      "   macro avg       0.98      0.51      0.51      3576\n",
      "weighted avg       0.96      0.96      0.94      3576\n",
      "\n"
     ]
    }
   ],
   "source": [
    "from sklearn.metrics import classification_report,confusion_matrix\n",
    "print(classification_report(fraud_test,predictions))"
   ]
  },
  {
   "cell_type": "code",
   "execution_count": 166,
   "id": "3a0bac36",
   "metadata": {},
   "outputs": [
    {
     "name": "stdout",
     "output_type": "stream",
     "text": [
      "[[3418    0]\n",
      " [ 154    4]]\n"
     ]
    }
   ],
   "source": [
    "print(confusion_matrix(fraud_test,predictions))"
   ]
  }
 ],
 "metadata": {
  "kernelspec": {
   "display_name": "Python 3",
   "language": "python",
   "name": "python3"
  },
  "language_info": {
   "codemirror_mode": {
    "name": "ipython",
    "version": 3
   },
   "file_extension": ".py",
   "mimetype": "text/x-python",
   "name": "python",
   "nbconvert_exporter": "python",
   "pygments_lexer": "ipython3",
   "version": "3.8.8"
  }
 },
 "nbformat": 4,
 "nbformat_minor": 5
}
